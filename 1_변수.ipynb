{
  "nbformat": 4,
  "nbformat_minor": 0,
  "metadata": {
    "colab": {
      "name": "1_변수",
      "provenance": [],
      "collapsed_sections": [],
      "authorship_tag": "ABX9TyO561x+v0GpTjWef4DEDF1X",
      "include_colab_link": true
    },
    "kernelspec": {
      "name": "python3",
      "display_name": "Python 3"
    },
    "language_info": {
      "name": "python"
    }
  },
  "cells": [
    {
      "cell_type": "markdown",
      "metadata": {
        "id": "view-in-github",
        "colab_type": "text"
      },
      "source": [
        "<a href=\"https://colab.research.google.com/github/sinnara2021/AI/blob/main/1_%EB%B3%80%EC%88%98.ipynb\" target=\"_parent\"><img src=\"https://colab.research.google.com/assets/colab-badge.svg\" alt=\"Open In Colab\"/></a>"
      ]
    },
    {
      "cell_type": "code",
      "execution_count": 3,
      "metadata": {
        "colab": {
          "base_uri": "https://localhost:8080/"
        },
        "id": "yTu9eCU-nJbf",
        "outputId": "d22f557d-eefe-4611-d613-3289f2558525"
      },
      "outputs": [
        {
          "output_type": "stream",
          "name": "stdout",
          "text": [
            "hello\n"
          ]
        }
      ],
      "source": [
        "print('hello')"
      ]
    },
    {
      "cell_type": "code",
      "source": [
        "a = 1\n",
        "b =2\n",
        "print(a+b)"
      ],
      "metadata": {
        "colab": {
          "base_uri": "https://localhost:8080/"
        },
        "id": "FqyXPEMtpvDa",
        "outputId": "8ed92333-f62d-4097-bbdb-1e2bbefe3cc8"
      },
      "execution_count": 7,
      "outputs": [
        {
          "output_type": "stream",
          "name": "stdout",
          "text": [
            "3\n"
          ]
        }
      ]
    },
    {
      "cell_type": "code",
      "source": [
        "# 변수 사용법과 입출력 배우기\n",
        "\n",
        "#예1 : var 1 이름으로 변수를 만들고 숫자 10 할당\n",
        "\n",
        "var1 = 10\n",
        "\n",
        "print ( 'var1: ' , var1)\n",
        "\n",
        "var2 = 20\n",
        "print('var2: ', var2)"
      ],
      "metadata": {
        "colab": {
          "base_uri": "https://localhost:8080/"
        },
        "id": "sxjqrJldrh4A",
        "outputId": "ab7ac791-3502-4f21-c19b-2735744310ea"
      },
      "execution_count": 12,
      "outputs": [
        {
          "output_type": "stream",
          "name": "stdout",
          "text": [
            "var1:  10\n",
            "var2:  20\n"
          ]
        }
      ]
    },
    {
      "cell_type": "code",
      "source": [
        "#다양한 연산자 사용\n",
        "print ( 1 + 2 )\n",
        "print ( var1 + var2 )\n",
        "print (var2-var1)\n",
        "print(var1*var2)\n",
        "print(var1/var2)"
      ],
      "metadata": {
        "colab": {
          "base_uri": "https://localhost:8080/"
        },
        "id": "XKZpDjuVsf0Z",
        "outputId": "42b9b94c-6058-470f-b676-d272ceed9834"
      },
      "execution_count": 16,
      "outputs": [
        {
          "output_type": "stream",
          "name": "stdout",
          "text": [
            "3\n",
            "30\n",
            "10\n",
            "200\n",
            "0.5\n"
          ]
        }
      ]
    },
    {
      "cell_type": "code",
      "source": [
        "# % 연산자 ( 나머지 값 구하기 )사용\n",
        "var5 = 3\n",
        "var6 = 14\n",
        "print('var6/var5 나머지 값: ', var6%var5)"
      ],
      "metadata": {
        "colab": {
          "base_uri": "https://localhost:8080/"
        },
        "id": "Rn665uX9uC_J",
        "outputId": "c83473b1-b8e5-4850-93df-2df8d5b65d73"
      },
      "execution_count": 18,
      "outputs": [
        {
          "output_type": "stream",
          "name": "stdout",
          "text": [
            "var6/var5 나머지 값:  2\n"
          ]
        }
      ]
    },
    {
      "cell_type": "code",
      "source": [
        "#print() 함수\n",
        "#출력문장 직접 쓰기\n",
        "print('오늘도 굿모닝이지 말입니다~~')\n",
        "print(\"오늘도 굿모닝이지 말입니다~~\")  \n",
        "\n",
        "# 큰따옴표나 작은따옴표나 처리결과는 같으나 웹크롤링.. html 코딩시... 큰따옴표 붙여넣거나 할때 웹코드랑 겹쳐지면서 사라짐..\n",
        "\n",
        "str1 = '늘 굿모닝이지 김도훈 강사님.'\n",
        "print(str1)"
      ],
      "metadata": {
        "colab": {
          "base_uri": "https://localhost:8080/"
        },
        "id": "ombJ7zXbuwQH",
        "outputId": "c239de10-d997-4158-cf51-af36005d89a4"
      },
      "execution_count": 20,
      "outputs": [
        {
          "output_type": "stream",
          "name": "stdout",
          "text": [
            "오늘도 굿모닝이지 말입니다~~\n",
            "오늘도 굿모닝이지 말입니다~~\n",
            "늘 굿모닝이지 김도훈 강사님.\n"
          ]
        }
      ]
    },
    {
      "cell_type": "code",
      "source": [
        "var1 = 100  \n",
        " # 아까 사용한 변수를 또 사용할 경우.. 파이썬은 인터프리터언어.. 한줄 코딩이라 가능은 하나....\n",
        " # 변수를 중복해서 쓸때.. 긴 코드 쓸때 변수가 중복되서 반영되는 값이 달라지는걸 조심은 해야 한다.\n",
        "\n",
        "print('var1 변수에 있는 값은 바로' , var1 , '입니다.')"
      ],
      "metadata": {
        "colab": {
          "base_uri": "https://localhost:8080/"
        },
        "id": "LJYIht7JwKEP",
        "outputId": "786fb441-9afd-41a1-8bce-907a54aa2c33"
      },
      "execution_count": 22,
      "outputs": [
        {
          "output_type": "stream",
          "name": "stdout",
          "text": [
            "var1 변수에 있는 값은 바로 100 입니다.\n"
          ]
        }
      ]
    },
    {
      "cell_type": "code",
      "source": [
        "# format 방식 출력\n",
        "bab = 5\n",
        "print('김도훈 강사님 쉬는시간인데. %s 분 쉬어요.' %bab)"
      ],
      "metadata": {
        "colab": {
          "base_uri": "https://localhost:8080/"
        },
        "id": "6Fn1cWO_yEJD",
        "outputId": "517fe478-5a22-42f7-9f1a-74a78f4ebd1d"
      },
      "execution_count": 23,
      "outputs": [
        {
          "output_type": "stream",
          "name": "stdout",
          "text": [
            "김도훈 강사님 쉬는시간인데. 5 분 쉬어요.\n"
          ]
        }
      ]
    },
    {
      "cell_type": "code",
      "source": [
        ""
      ],
      "metadata": {
        "id": "-Jvj1yIYyhkm"
      },
      "execution_count": null,
      "outputs": []
    }
  ]
}