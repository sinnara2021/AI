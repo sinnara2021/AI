{
  "nbformat": 4,
  "nbformat_minor": 0,
  "metadata": {
    "colab": {
      "name": "1_변수",
      "provenance": [],
      "collapsed_sections": [],
      "authorship_tag": "ABX9TyNzQo2vD90qDMVYdbGQp5dO",
      "include_colab_link": true
    },
    "kernelspec": {
      "name": "python3",
      "display_name": "Python 3"
    },
    "language_info": {
      "name": "python"
    }
  },
  "cells": [
    {
      "cell_type": "markdown",
      "metadata": {
        "id": "view-in-github",
        "colab_type": "text"
      },
      "source": [
        "<a href=\"https://colab.research.google.com/github/sinnara2021/AI/blob/main/1_%EB%B3%80%EC%88%98.ipynb\" target=\"_parent\"><img src=\"https://colab.research.google.com/assets/colab-badge.svg\" alt=\"Open In Colab\"/></a>"
      ]
    },
    {
      "cell_type": "code",
      "execution_count": 3,
      "metadata": {
        "colab": {
          "base_uri": "https://localhost:8080/"
        },
        "id": "yTu9eCU-nJbf",
        "outputId": "d22f557d-eefe-4611-d613-3289f2558525"
      },
      "outputs": [
        {
          "output_type": "stream",
          "name": "stdout",
          "text": [
            "hello\n"
          ]
        }
      ],
      "source": [
        "print('hello')"
      ]
    },
    {
      "cell_type": "code",
      "source": [
        "a = 1\n",
        "b =2\n",
        "print(a+b)"
      ],
      "metadata": {
        "colab": {
          "base_uri": "https://localhost:8080/"
        },
        "id": "FqyXPEMtpvDa",
        "outputId": "8ed92333-f62d-4097-bbdb-1e2bbefe3cc8"
      },
      "execution_count": 7,
      "outputs": [
        {
          "output_type": "stream",
          "name": "stdout",
          "text": [
            "3\n"
          ]
        }
      ]
    },
    {
      "cell_type": "code",
      "source": [
        "# 변수 사용법과 입출력 배우기\n",
        "\n",
        "#예1 : var 1 이름으로 변수를 만들고 숫자 10 할당\n",
        "\n",
        "var1 = 10\n",
        "\n",
        "print ( 'var1: ' , var1)"
      ],
      "metadata": {
        "colab": {
          "base_uri": "https://localhost:8080/"
        },
        "id": "sxjqrJldrh4A",
        "outputId": "ac2bc49f-3d79-4c37-f81a-7c4c87a7b756"
      },
      "execution_count": 11,
      "outputs": [
        {
          "output_type": "stream",
          "name": "stdout",
          "text": [
            "var1:  10\n"
          ]
        }
      ]
    },
    {
      "cell_type": "code",
      "source": [
        ""
      ],
      "metadata": {
        "id": "XKZpDjuVsf0Z"
      },
      "execution_count": null,
      "outputs": []
    }
  ]
}