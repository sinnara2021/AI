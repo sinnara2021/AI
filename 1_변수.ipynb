{
  "nbformat": 4,
  "nbformat_minor": 0,
  "metadata": {
    "colab": {
      "name": "1_변수",
      "provenance": [],
      "collapsed_sections": [],
      "authorship_tag": "ABX9TyPHBCFH592/Y3xrtw3ZT7BR",
      "include_colab_link": true
    },
    "kernelspec": {
      "name": "python3",
      "display_name": "Python 3"
    },
    "language_info": {
      "name": "python"
    }
  },
  "cells": [
    {
      "cell_type": "markdown",
      "metadata": {
        "id": "view-in-github",
        "colab_type": "text"
      },
      "source": [
        "<a href=\"https://colab.research.google.com/github/sinnara2021/AI/blob/main/1_%EB%B3%80%EC%88%98.ipynb\" target=\"_parent\"><img src=\"https://colab.research.google.com/assets/colab-badge.svg\" alt=\"Open In Colab\"/></a>"
      ]
    },
    {
      "cell_type": "code",
      "execution_count": 3,
      "metadata": {
        "colab": {
          "base_uri": "https://localhost:8080/"
        },
        "id": "yTu9eCU-nJbf",
        "outputId": "d22f557d-eefe-4611-d613-3289f2558525"
      },
      "outputs": [
        {
          "output_type": "stream",
          "name": "stdout",
          "text": [
            "hello\n"
          ]
        }
      ],
      "source": [
        "print('hello')"
      ]
    },
    {
      "cell_type": "code",
      "source": [
        "a = 1\n",
        "b =2\n",
        "print(a+b)"
      ],
      "metadata": {
        "colab": {
          "base_uri": "https://localhost:8080/"
        },
        "id": "FqyXPEMtpvDa",
        "outputId": "8ed92333-f62d-4097-bbdb-1e2bbefe3cc8"
      },
      "execution_count": 7,
      "outputs": [
        {
          "output_type": "stream",
          "name": "stdout",
          "text": [
            "3\n"
          ]
        }
      ]
    },
    {
      "cell_type": "code",
      "source": [
        "# 변수 사용법과 입출력 배우기\n",
        "\n",
        "#예1 : var 1 이름으로 변수를 만들고 숫자 10 할당\n",
        "\n",
        "var1 = 10\n",
        "\n",
        "print ( 'var1: ' , var1)\n",
        "\n",
        "var2 = 20\n",
        "print('var2: ', var2)"
      ],
      "metadata": {
        "colab": {
          "base_uri": "https://localhost:8080/"
        },
        "id": "sxjqrJldrh4A",
        "outputId": "ab7ac791-3502-4f21-c19b-2735744310ea"
      },
      "execution_count": 12,
      "outputs": [
        {
          "output_type": "stream",
          "name": "stdout",
          "text": [
            "var1:  10\n",
            "var2:  20\n"
          ]
        }
      ]
    },
    {
      "cell_type": "code",
      "source": [
        "#다양한 연산자 사용\n",
        "print ( 1 + 2 )\n",
        "print ( var1 + var2 )\n",
        "print (var2-var1)\n",
        "print(var1*var2)\n",
        "print(var1/var2)"
      ],
      "metadata": {
        "colab": {
          "base_uri": "https://localhost:8080/"
        },
        "id": "XKZpDjuVsf0Z",
        "outputId": "42b9b94c-6058-470f-b676-d272ceed9834"
      },
      "execution_count": 16,
      "outputs": [
        {
          "output_type": "stream",
          "name": "stdout",
          "text": [
            "3\n",
            "30\n",
            "10\n",
            "200\n",
            "0.5\n"
          ]
        }
      ]
    },
    {
      "cell_type": "code",
      "source": [
        "# % 연산자 ( 나머지 값 구하기 )사용\n",
        "var5 = 3\n",
        "var6 = 14\n",
        "print('var6/var5 나머지 값: ', var6%var5)"
      ],
      "metadata": {
        "colab": {
          "base_uri": "https://localhost:8080/"
        },
        "id": "Rn665uX9uC_J",
        "outputId": "c83473b1-b8e5-4850-93df-2df8d5b65d73"
      },
      "execution_count": 18,
      "outputs": [
        {
          "output_type": "stream",
          "name": "stdout",
          "text": [
            "var6/var5 나머지 값:  2\n"
          ]
        }
      ]
    },
    {
      "cell_type": "code",
      "source": [
        "#print() 함수\n",
        "#출력문장 직접 쓰기\n",
        "print('오늘도 굿모닝이지 말입니다~~')\n",
        "print(\"오늘도 굿모닝이지 말입니다~~\")  \n",
        "\n",
        "# 큰따옴표나 작은따옴표나 처리결과는 같으나 웹크롤링.. html 코딩시... 큰따옴표 붙여넣거나 할때 웹코드랑 겹쳐지면서 사라짐..\n",
        "\n",
        "str1 = '늘 굿모닝이지 김도훈 강사님.'\n",
        "print(str1)"
      ],
      "metadata": {
        "colab": {
          "base_uri": "https://localhost:8080/"
        },
        "id": "ombJ7zXbuwQH",
        "outputId": "c239de10-d997-4158-cf51-af36005d89a4"
      },
      "execution_count": 20,
      "outputs": [
        {
          "output_type": "stream",
          "name": "stdout",
          "text": [
            "오늘도 굿모닝이지 말입니다~~\n",
            "오늘도 굿모닝이지 말입니다~~\n",
            "늘 굿모닝이지 김도훈 강사님.\n"
          ]
        }
      ]
    },
    {
      "cell_type": "code",
      "source": [
        "var1 = 100  \n",
        " # 아까 사용한 변수를 또 사용할 경우.. 파이썬은 인터프리터언어.. 한줄 코딩이라 가능은 하나....\n",
        " # 변수를 중복해서 쓸때.. 긴 코드 쓸때 변수가 중복되서 반영되는 값이 달라지는걸 조심은 해야 한다.\n",
        "\n",
        "print('var1 변수에 있는 값은 바로' , var1 , '입니다.')"
      ],
      "metadata": {
        "colab": {
          "base_uri": "https://localhost:8080/"
        },
        "id": "LJYIht7JwKEP",
        "outputId": "786fb441-9afd-41a1-8bce-907a54aa2c33"
      },
      "execution_count": 22,
      "outputs": [
        {
          "output_type": "stream",
          "name": "stdout",
          "text": [
            "var1 변수에 있는 값은 바로 100 입니다.\n"
          ]
        }
      ]
    },
    {
      "cell_type": "code",
      "source": [
        "# format 방식 출력\n",
        "bab = 5\n",
        "print('김도훈 강사님 쉬는시간인데. %s 분 쉬어요.' %bab)"
      ],
      "metadata": {
        "colab": {
          "base_uri": "https://localhost:8080/"
        },
        "id": "6Fn1cWO_yEJD",
        "outputId": "517fe478-5a22-42f7-9f1a-74a78f4ebd1d"
      },
      "execution_count": 23,
      "outputs": [
        {
          "output_type": "stream",
          "name": "stdout",
          "text": [
            "김도훈 강사님 쉬는시간인데. 5 분 쉬어요.\n"
          ]
        }
      ]
    },
    {
      "cell_type": "code",
      "source": [
        "up = 20\n",
        "my = 10\n",
        "print('도훈강사님 성적은 %s%%가 내렸는데 나는 %s%%나 올랐다^^ ' %(up,my) )"
      ],
      "metadata": {
        "colab": {
          "base_uri": "https://localhost:8080/"
        },
        "id": "-Jvj1yIYyhkm",
        "outputId": "569726cc-aecc-4dbc-a6e5-2f040bb3da1b"
      },
      "execution_count": 27,
      "outputs": [
        {
          "output_type": "stream",
          "name": "stdout",
          "text": [
            "도훈강사님 성적은 20%가 내렸는데 나는 10%나 올랐다^^ \n"
          ]
        }
      ]
    },
    {
      "cell_type": "code",
      "source": [
        "print('도훈 강사님 {}%가 내렸는데 나는 {}%씩 2배로 올랐다^^' .format(up, my))"
      ],
      "metadata": {
        "colab": {
          "base_uri": "https://localhost:8080/"
        },
        "id": "NSpSITl21lb3",
        "outputId": "108bbcfc-8cd9-4b93-8bc3-1bb95b8b84aa"
      },
      "execution_count": 29,
      "outputs": [
        {
          "output_type": "stream",
          "name": "stdout",
          "text": [
            "도훈 강사님 20%가 내렸는데 나는 10%씩 2배로 올랐다^^\n"
          ]
        }
      ]
    },
    {
      "cell_type": "code",
      "source": [
        "print('도훈 강사님 {1}%가 내렸는데 나는 {0}%씩 2배로 올랐다^^' .format(up, my))"
      ],
      "metadata": {
        "colab": {
          "base_uri": "https://localhost:8080/"
        },
        "id": "pwEbM5Mo2Ob3",
        "outputId": "83bbd170-3858-41c7-9e06-d05c61d9f490"
      },
      "execution_count": 30,
      "outputs": [
        {
          "output_type": "stream",
          "name": "stdout",
          "text": [
            "도훈 강사님 10%가 내렸는데 나는 20%씩 2배로 올랐다^^\n"
          ]
        }
      ]
    },
    {
      "cell_type": "code",
      "source": [
        "#여러개의 플레이스 홀드 사용 가능\n",
        "name = '윤수경'\n",
        "hobby = '커피마시기'\n",
        "home = '거제'\n",
        "str1 = '제 이름은 {}이고 취미는 {}이며 사는 지역은 {} 입니다.'\n",
        "\n",
        "print( str1.format(name, hobby, home))"
      ],
      "metadata": {
        "colab": {
          "base_uri": "https://localhost:8080/"
        },
        "id": "YkSzenqP2aS1",
        "outputId": "6fff17b0-7df6-4c8c-808c-8493113c6978"
      },
      "execution_count": 31,
      "outputs": [
        {
          "output_type": "stream",
          "name": "stdout",
          "text": [
            "제 이름은 윤수경이고 취미는 커피마시기이며 사는 지역은 거제 입니다.\n"
          ]
        }
      ]
    },
    {
      "cell_type": "code",
      "source": [
        "# input 함수로 정보 입력받기\n",
        "menu = input()"
      ],
      "metadata": {
        "colab": {
          "base_uri": "https://localhost:8080/"
        },
        "id": "Q1iCe1iT3Qy2",
        "outputId": "c366b76b-313c-4792-f8c5-57130acc7db2"
      },
      "execution_count": 32,
      "outputs": [
        {
          "name": "stdout",
          "output_type": "stream",
          "text": [
            "꽃등심\n"
          ]
        }
      ]
    },
    {
      "cell_type": "code",
      "source": [
        "print(menu)"
      ],
      "metadata": {
        "colab": {
          "base_uri": "https://localhost:8080/"
        },
        "id": "XdMaFbpe344P",
        "outputId": "f6fd1523-3a57-4f8f-fd15-91e6b0f506b0"
      },
      "execution_count": 33,
      "outputs": [
        {
          "output_type": "stream",
          "name": "stdout",
          "text": [
            "꽃등심\n"
          ]
        }
      ]
    },
    {
      "cell_type": "code",
      "source": [
        "# 안내 멘트 함께 보기\n",
        "menu_2=input('오늘 저녁에 머 먹을까?: ')"
      ],
      "metadata": {
        "colab": {
          "base_uri": "https://localhost:8080/"
        },
        "id": "7DnWakg239S1",
        "outputId": "8f0b24bf-7ca5-4c38-9801-1476a7381ea6"
      },
      "execution_count": 34,
      "outputs": [
        {
          "name": "stdout",
          "output_type": "stream",
          "text": [
            "오늘 저녁에 머 먹을까?: 꽃등심 따따블\n"
          ]
        }
      ]
    },
    {
      "cell_type": "code",
      "source": [
        "print(menu_2)"
      ],
      "metadata": {
        "colab": {
          "base_uri": "https://localhost:8080/"
        },
        "id": "cAeA3rQO4P3d",
        "outputId": "ced9bfad-2084-46cb-cf52-25b73106487d"
      },
      "execution_count": 35,
      "outputs": [
        {
          "output_type": "stream",
          "name": "stdout",
          "text": [
            "꽃등심 따따블\n"
          ]
        }
      ]
    },
    {
      "cell_type": "code",
      "source": [
        "area_no = input('''\n",
        "1. 서울  2.대전  3.광주  4.부산  5.경남\n",
        "6. 경북  7.대구  8.전남  9.전북  10.제주\n",
        "11. 거제도\n",
        "\n",
        "위 지역중 검색을 원하는 지역의 번호를 입력하세요:\n",
        "\n",
        "''')"
      ],
      "metadata": {
        "colab": {
          "base_uri": "https://localhost:8080/"
        },
        "id": "nXqa91L34UyE",
        "outputId": "6245f099-9305-4978-83dd-1e77b9710016"
      },
      "execution_count": 38,
      "outputs": [
        {
          "name": "stdout",
          "output_type": "stream",
          "text": [
            "\n",
            "1. 서울  2.대전  3.광주  4.부산  5.경남\n",
            "6. 경북  7.대구  8.전남  9.전북  10.제주\n",
            "11. 거제도\n",
            "\n",
            "위 지역중 검색을 원하는 지역의 번호를 입력하세요:\n",
            "\n",
            "11\n"
          ]
        }
      ]
    },
    {
      "cell_type": "code",
      "source": [
        "# input(), print() 활용\n",
        "name = input('1.이름을 입력하세요: ')\n",
        "hobby = input('2.취미를 입력하세요: ')\n",
        "\n",
        "#기본 출력\n",
        "print(name, '님의 취미는' , hobby , '입니다.')\n",
        "\n",
        "#문자열 포맷팅\n",
        "print('%s 님의 취미는 %s 입니다' %(name, hobby))\n",
        "\n",
        "#플레이스 홀드\n",
        "s = '{} 님의 취미는 {} 입니다.'\n",
        "print(s.format(name, hobby))"
      ],
      "metadata": {
        "colab": {
          "base_uri": "https://localhost:8080/"
        },
        "id": "uJbcj9zZ4yPl",
        "outputId": "a3744438-a908-4d3d-bf87-af23178e500f"
      },
      "execution_count": 40,
      "outputs": [
        {
          "output_type": "stream",
          "name": "stdout",
          "text": [
            "1.이름을 입력하세요: 윤수경\n",
            "2.취미를 입력하세요: 메이킹\n",
            "윤수경 님의 취미는 메이킹 입니다.\n",
            "윤수경 님의 취미는 메이킹 입니다\n",
            "윤수경 님의 취미는 메이킹 입니다.\n"
          ]
        }
      ]
    },
    {
      "cell_type": "code",
      "source": [
        "a = input()\n",
        "b = input()\n",
        "print(a+b)"
      ],
      "metadata": {
        "colab": {
          "base_uri": "https://localhost:8080/"
        },
        "id": "_kWoWCTs5tWF",
        "outputId": "4bcd9179-c50a-4f14-8c4d-18fc2518a011"
      },
      "execution_count": 42,
      "outputs": [
        {
          "output_type": "stream",
          "name": "stdout",
          "text": [
            "10\n",
            "20\n",
            "1020\n"
          ]
        }
      ]
    },
    {
      "cell_type": "code",
      "source": [
        "# 인티져(intger) 선언\n",
        "a = int( input('첫 번째 숫자 입력: ') )\n",
        "b = int(input('두 번째 숫자 입력: ') )\n",
        "print(a+b)"
      ],
      "metadata": {
        "colab": {
          "base_uri": "https://localhost:8080/"
        },
        "id": "sWA1Et8d6DhF",
        "outputId": "dda839ee-16a2-4225-998c-d7006f1a1120"
      },
      "execution_count": 43,
      "outputs": [
        {
          "output_type": "stream",
          "name": "stdout",
          "text": [
            "첫 번째 숫자 입력: 10\n",
            "두 번째 숫자 입력: 20\n",
            "30\n"
          ]
        }
      ]
    },
    {
      "cell_type": "code",
      "source": [
        "# 인티져(intger) 선언\n",
        "c = float( input('첫 번째 실수 입력: ') )\n",
        "d = float( input('두 번째 실수 입력: ') )\n",
        "print(c+d)"
      ],
      "metadata": {
        "colab": {
          "base_uri": "https://localhost:8080/"
        },
        "id": "7Z4zM30w6luU",
        "outputId": "5b65fbad-1638-4aaf-bbb3-0d0bdfb109fb"
      },
      "execution_count": 45,
      "outputs": [
        {
          "output_type": "stream",
          "name": "stdout",
          "text": [
            "첫 번째 실수 입력: 5\n",
            "두 번째 실수 입력: 6\n",
            "11.0\n"
          ]
        }
      ]
    },
    {
      "cell_type": "code",
      "source": [
        "#숫자 타입에서 많이 사용되는 주요 함수\n",
        "#1) round() - 반올림 함수\n",
        "\n",
        "no1 = 3.45678\n",
        "no2 = 3.56789\n",
        "print('원래값: {}, 반올림 값: {}'. format(no1, round(no1)))\n",
        "print('원래값: {}, 반올림 값: {}'. format(no2, round(no1)))"
      ],
      "metadata": {
        "colab": {
          "base_uri": "https://localhost:8080/"
        },
        "id": "X4hQnc4t7I2y",
        "outputId": "ed32cd1d-51d6-4013-f00e-3a0f3fdfbf62"
      },
      "execution_count": 47,
      "outputs": [
        {
          "output_type": "stream",
          "name": "stdout",
          "text": [
            "원래값: 3.45678, 반올림 값: 3\n",
            "원래값: 3.56789, 반올림 값: 3\n"
          ]
        }
      ]
    },
    {
      "cell_type": "code",
      "source": [
        "#1) round() - 반올림 함수, 소수점 이하 자리수 지정\n",
        "no1 =3\n",
        "no2 = 5\n",
        "print('반올림하기 전 원래값: ', no2/no1)\n",
        "print('소수 첫째자리 반올림: ', round(no2/no1, 1))\n",
        "print('소수 둘째자리 반올림: ', round(no2/no1, 2))"
      ],
      "metadata": {
        "colab": {
          "base_uri": "https://localhost:8080/"
        },
        "id": "ht671ptf8CfJ",
        "outputId": "bb772303-86c0-48da-81b3-76cba53ade3a"
      },
      "execution_count": 51,
      "outputs": [
        {
          "output_type": "stream",
          "name": "stdout",
          "text": [
            "반올림하기 전 원래값:  1.6666666666666667\n",
            "소수 첫째자리 반올림:  1.7\n",
            "소수 둘째자리 반올림:  1.67\n"
          ]
        }
      ]
    },
    {
      "cell_type": "code",
      "source": [
        "# trunc() - 버림 함수\n",
        "import math\n",
        "\n",
        "no1 = 3\n",
        "no2 = 5\n",
        "\n",
        "print('버림하기 전 원래값: ' , no2/no1 )\n",
        "print('소수 첫째자리까지 버림하기: ', math.trunc( no2/no1 ))"
      ],
      "metadata": {
        "colab": {
          "base_uri": "https://localhost:8080/"
        },
        "id": "MXY_FQni8jj9",
        "outputId": "7f3090d7-79bd-4b3d-c7ed-fd6599717df4"
      },
      "execution_count": 52,
      "outputs": [
        {
          "output_type": "stream",
          "name": "stdout",
          "text": [
            "버림하기 전 원래값:  1.6666666666666667\n",
            "소수 첫째자리까지 버림하기:  1\n"
          ]
        }
      ]
    },
    {
      "cell_type": "code",
      "source": [
        "# ceil()  - 큰 정수 찾기 함수\n",
        "# 페이지수 계산에 많이 사용함.\n",
        "\n",
        "cnt = int(input('총 몇 건의 데이터를 수집할까요?'))\n",
        "\n",
        "# 한 페이지당 15건의 게시물이 있다고 할 경우\n",
        "page_cnt = math.ceil( cnt/15 )\n",
        "print('총 {} 페이지까지 데이터를 수집해야 합니다.' .format(page_cnt))\n",
        "\n",
        "print( cnt/15 ) "
      ],
      "metadata": {
        "colab": {
          "base_uri": "https://localhost:8080/"
        },
        "id": "6jZsWI3k-A2_",
        "outputId": "a14b2caa-e8d4-433d-b7c4-bd6aec5e7465"
      },
      "execution_count": 54,
      "outputs": [
        {
          "output_type": "stream",
          "name": "stdout",
          "text": [
            "총 몇 건의 데이터를 수집할까요?100\n",
            "총 7 페이지까지 데이터를 수집해야 합니다.\n",
            "6.666666666666667\n"
          ]
        }
      ]
    },
    {
      "cell_type": "code",
      "source": [
        "# 작은 정수 찾기 - floor()\n",
        "import math\n",
        "\n",
        "no1=4.9\n",
        "no2=4.1\n",
        "\n",
        "print('원래값:{}, 적용값:{}' . format(no1 , math.floor(no1)))\n",
        "\n",
        "# , 와 . 구분 잘 하기.. 웬수탱이들!!"
      ],
      "metadata": {
        "colab": {
          "base_uri": "https://localhost:8080/"
        },
        "id": "0X-HPWWr-3-k",
        "outputId": "c9bd0544-a708-441a-846e-67c52c16a70a"
      },
      "execution_count": 55,
      "outputs": [
        {
          "output_type": "stream",
          "name": "stdout",
          "text": [
            "원래값:4.9, 적용값:4\n"
          ]
        }
      ]
    },
    {
      "cell_type": "code",
      "source": [
        ""
      ],
      "metadata": {
        "id": "MJVYuBhNALNj"
      },
      "execution_count": null,
      "outputs": []
    }
  ]
}