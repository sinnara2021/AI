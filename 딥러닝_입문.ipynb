{
  "nbformat": 4,
  "nbformat_minor": 0,
  "metadata": {
    "colab": {
      "name": "딥러닝 입문.ipynb",
      "provenance": [],
      "collapsed_sections": [],
      "include_colab_link": true
    },
    "kernelspec": {
      "name": "python3",
      "display_name": "Python 3"
    },
    "language_info": {
      "name": "python"
    }
  },
  "cells": [
    {
      "cell_type": "markdown",
      "metadata": {
        "id": "view-in-github",
        "colab_type": "text"
      },
      "source": [
        "<a href=\"https://colab.research.google.com/github/sinnara2021/AI/blob/main/%EB%94%A5%EB%9F%AC%EB%8B%9D_%EC%9E%85%EB%AC%B8.ipynb\" target=\"_parent\"><img src=\"https://colab.research.google.com/assets/colab-badge.svg\" alt=\"Open In Colab\"/></a>"
      ]
    },
    {
      "cell_type": "markdown",
      "metadata": {
        "id": "T4o1MTLfcbln"
      },
      "source": [
        "# 0. 판다스를 이용하여 데이터 준비하기"
      ]
    },
    {
      "cell_type": "markdown",
      "metadata": {
        "id": "4FQvg1wWa7JC"
      },
      "source": [
        "사용할 데이터 \n",
        "- 레모네이드: https://raw.githubusercontent.com/blackdew/ml-tensorflow/master/data/csv/lemonade.csv\n",
        "- 보스턴: https://raw.githubusercontent.com/blackdew/ml-tensorflow/master/data/csv/boston.csv\n",
        "- 아이리스: https://raw.githubusercontent.com/blackdew/ml-tensorflow/master/data/csv/iris.csv\n"
      ]
    },
    {
      "cell_type": "code",
      "metadata": {
        "colab": {
          "base_uri": "https://localhost:8080/",
          "height": 242
        },
        "id": "QmcW36bHZJBY",
        "outputId": "40c1f544-1e3d-4e38-aea0-13b56c378d38"
      },
      "source": [
        "import pandas as pd\n",
        "\n",
        "# 데이터를 준비합니다. \n",
        "path = \"https://raw.githubusercontent.com/blackdew/ml-tensorflow/master/data/csv/lemonade.csv\"\n",
        "lemon = pd.read_csv(path)\n",
        "print(lemon.shape)\n",
        "\n",
        "# 독립변수, 종속변수 분리해 내는 것.\n",
        "x_input = lemon[['온도']]\n",
        "y_label = lemon[['판매량']]\n",
        "print(x_input.shape, y_label.shape)\n",
        "\n",
        "y_label.head()"
      ],
      "execution_count": null,
      "outputs": [
        {
          "output_type": "stream",
          "text": [
            "(6, 2)\n",
            "(6, 1) (6, 1)\n"
          ],
          "name": "stdout"
        },
        {
          "output_type": "execute_result",
          "data": {
            "text/html": [
              "<div>\n",
              "<style scoped>\n",
              "    .dataframe tbody tr th:only-of-type {\n",
              "        vertical-align: middle;\n",
              "    }\n",
              "\n",
              "    .dataframe tbody tr th {\n",
              "        vertical-align: top;\n",
              "    }\n",
              "\n",
              "    .dataframe thead th {\n",
              "        text-align: right;\n",
              "    }\n",
              "</style>\n",
              "<table border=\"1\" class=\"dataframe\">\n",
              "  <thead>\n",
              "    <tr style=\"text-align: right;\">\n",
              "      <th></th>\n",
              "      <th>판매량</th>\n",
              "    </tr>\n",
              "  </thead>\n",
              "  <tbody>\n",
              "    <tr>\n",
              "      <th>0</th>\n",
              "      <td>40</td>\n",
              "    </tr>\n",
              "    <tr>\n",
              "      <th>1</th>\n",
              "      <td>42</td>\n",
              "    </tr>\n",
              "    <tr>\n",
              "      <th>2</th>\n",
              "      <td>44</td>\n",
              "    </tr>\n",
              "    <tr>\n",
              "      <th>3</th>\n",
              "      <td>46</td>\n",
              "    </tr>\n",
              "    <tr>\n",
              "      <th>4</th>\n",
              "      <td>48</td>\n",
              "    </tr>\n",
              "  </tbody>\n",
              "</table>\n",
              "</div>"
            ],
            "text/plain": [
              "   판매량\n",
              "0   40\n",
              "1   42\n",
              "2   44\n",
              "3   46\n",
              "4   48"
            ]
          },
          "metadata": {},
          "execution_count": 14
        }
      ]
    },
    {
      "cell_type": "markdown",
      "metadata": {
        "id": "kgUwEC9ecCz_"
      },
      "source": [
        "### 실습.\n",
        "1. 보스턴 x_input, y_label 만들기 (종속변수: 'medv')\n",
        "1. 아이리스 x_input, y_label 만들기 (종속변수: '품종')"
      ]
    },
    {
      "cell_type": "code",
      "metadata": {
        "colab": {
          "base_uri": "https://localhost:8080/",
          "height": 261
        },
        "id": "x3Zh_gn8cWIX",
        "outputId": "5486c7a8-1063-4d07-ffcb-ff9490eee4c0"
      },
      "source": [
        "# 데이터를 준비합니다. \n",
        "path = \"https://raw.githubusercontent.com/blackdew/ml-tensorflow/master/data/csv/boston.csv\"\n",
        "boston = pd.read_csv(path)\n",
        "print(boston.columns)\n",
        "x_input = boston[['crim', 'zn', 'indus', 'chas', 'nox', 'rm', 'age', 'dis', 'rad', 'tax', 'ptratio', 'b', 'lstat']]\n",
        "x_input.head()"
      ],
      "execution_count": null,
      "outputs": [
        {
          "output_type": "stream",
          "text": [
            "Index(['crim', 'zn', 'indus', 'chas', 'nox', 'rm', 'age', 'dis', 'rad', 'tax',\n",
            "       'ptratio', 'b', 'lstat', 'medv'],\n",
            "      dtype='object')\n"
          ],
          "name": "stdout"
        },
        {
          "output_type": "execute_result",
          "data": {
            "text/html": [
              "<div>\n",
              "<style scoped>\n",
              "    .dataframe tbody tr th:only-of-type {\n",
              "        vertical-align: middle;\n",
              "    }\n",
              "\n",
              "    .dataframe tbody tr th {\n",
              "        vertical-align: top;\n",
              "    }\n",
              "\n",
              "    .dataframe thead th {\n",
              "        text-align: right;\n",
              "    }\n",
              "</style>\n",
              "<table border=\"1\" class=\"dataframe\">\n",
              "  <thead>\n",
              "    <tr style=\"text-align: right;\">\n",
              "      <th></th>\n",
              "      <th>crim</th>\n",
              "      <th>zn</th>\n",
              "      <th>indus</th>\n",
              "      <th>chas</th>\n",
              "      <th>nox</th>\n",
              "      <th>rm</th>\n",
              "      <th>age</th>\n",
              "      <th>dis</th>\n",
              "      <th>rad</th>\n",
              "      <th>tax</th>\n",
              "      <th>ptratio</th>\n",
              "      <th>b</th>\n",
              "      <th>lstat</th>\n",
              "    </tr>\n",
              "  </thead>\n",
              "  <tbody>\n",
              "    <tr>\n",
              "      <th>0</th>\n",
              "      <td>0.00632</td>\n",
              "      <td>18.0</td>\n",
              "      <td>2.31</td>\n",
              "      <td>0</td>\n",
              "      <td>0.538</td>\n",
              "      <td>6.575</td>\n",
              "      <td>65.2</td>\n",
              "      <td>4.0900</td>\n",
              "      <td>1</td>\n",
              "      <td>296</td>\n",
              "      <td>15.3</td>\n",
              "      <td>396.90</td>\n",
              "      <td>4.98</td>\n",
              "    </tr>\n",
              "    <tr>\n",
              "      <th>1</th>\n",
              "      <td>0.02731</td>\n",
              "      <td>0.0</td>\n",
              "      <td>7.07</td>\n",
              "      <td>0</td>\n",
              "      <td>0.469</td>\n",
              "      <td>6.421</td>\n",
              "      <td>78.9</td>\n",
              "      <td>4.9671</td>\n",
              "      <td>2</td>\n",
              "      <td>242</td>\n",
              "      <td>17.8</td>\n",
              "      <td>396.90</td>\n",
              "      <td>9.14</td>\n",
              "    </tr>\n",
              "    <tr>\n",
              "      <th>2</th>\n",
              "      <td>0.02729</td>\n",
              "      <td>0.0</td>\n",
              "      <td>7.07</td>\n",
              "      <td>0</td>\n",
              "      <td>0.469</td>\n",
              "      <td>7.185</td>\n",
              "      <td>61.1</td>\n",
              "      <td>4.9671</td>\n",
              "      <td>2</td>\n",
              "      <td>242</td>\n",
              "      <td>17.8</td>\n",
              "      <td>392.83</td>\n",
              "      <td>4.03</td>\n",
              "    </tr>\n",
              "    <tr>\n",
              "      <th>3</th>\n",
              "      <td>0.03237</td>\n",
              "      <td>0.0</td>\n",
              "      <td>2.18</td>\n",
              "      <td>0</td>\n",
              "      <td>0.458</td>\n",
              "      <td>6.998</td>\n",
              "      <td>45.8</td>\n",
              "      <td>6.0622</td>\n",
              "      <td>3</td>\n",
              "      <td>222</td>\n",
              "      <td>18.7</td>\n",
              "      <td>394.63</td>\n",
              "      <td>2.94</td>\n",
              "    </tr>\n",
              "    <tr>\n",
              "      <th>4</th>\n",
              "      <td>0.06905</td>\n",
              "      <td>0.0</td>\n",
              "      <td>2.18</td>\n",
              "      <td>0</td>\n",
              "      <td>0.458</td>\n",
              "      <td>7.147</td>\n",
              "      <td>54.2</td>\n",
              "      <td>6.0622</td>\n",
              "      <td>3</td>\n",
              "      <td>222</td>\n",
              "      <td>18.7</td>\n",
              "      <td>396.90</td>\n",
              "      <td>5.33</td>\n",
              "    </tr>\n",
              "  </tbody>\n",
              "</table>\n",
              "</div>"
            ],
            "text/plain": [
              "      crim    zn  indus  chas    nox  ...  rad  tax  ptratio       b  lstat\n",
              "0  0.00632  18.0   2.31     0  0.538  ...    1  296     15.3  396.90   4.98\n",
              "1  0.02731   0.0   7.07     0  0.469  ...    2  242     17.8  396.90   9.14\n",
              "2  0.02729   0.0   7.07     0  0.469  ...    2  242     17.8  392.83   4.03\n",
              "3  0.03237   0.0   2.18     0  0.458  ...    3  222     18.7  394.63   2.94\n",
              "4  0.06905   0.0   2.18     0  0.458  ...    3  222     18.7  396.90   5.33\n",
              "\n",
              "[5 rows x 13 columns]"
            ]
          },
          "metadata": {},
          "execution_count": 17
        }
      ]
    },
    {
      "cell_type": "markdown",
      "metadata": {
        "id": "s3RelId4cU7N"
      },
      "source": [
        "# 1. 레모네이드 판매예측"
      ]
    },
    {
      "cell_type": "code",
      "metadata": {
        "colab": {
          "base_uri": "https://localhost:8080/"
        },
        "id": "OQ80LQuxcVTq",
        "outputId": "4a4acec8-5eb4-4c6d-e265-2cae7b8ddfb7"
      },
      "source": [
        "import pandas as pd\n",
        "# 데이터를 준비합니다. \n",
        "\n",
        "path = 'https://raw.githubusercontent.com/blackdew/ml-tensorflow/master/data/csv/lemonade.csv'\n",
        "data = pd.read_csv(path)\n",
        "\n",
        "x = data[['온도']]\n",
        "y = data[['판매량']]\n",
        "print(x.shape, y.shape)"
      ],
      "execution_count": null,
      "outputs": [
        {
          "output_type": "stream",
          "text": [
            "(6, 1) (6, 1)\n"
          ],
          "name": "stdout"
        }
      ]
    },
    {
      "cell_type": "code",
      "metadata": {
        "id": "8hdgjnPdbInY"
      },
      "source": [
        "import tensorflow as tf\n",
        "\n",
        "# 모델을 준비합니다. \n",
        "X = tf.keras.layers.Input(shape=[1])\n",
        "Y = tf.keras.layers.Dense(1)(X)\n",
        "model = tf.keras.models.Model(X, Y)\n",
        "model.compile(loss='mse')"
      ],
      "execution_count": null,
      "outputs": []
    },
    {
      "cell_type": "code",
      "metadata": {
        "colab": {
          "base_uri": "https://localhost:8080/"
        },
        "id": "kLOpwOLtbKHn",
        "outputId": "1cf8f276-e9ed-4646-d8bd-40b5efc50d1f"
      },
      "source": [
        "# 모델을 학습시킵니다. \n",
        "model.fit(x, y, epochs=1000, verbose=0)\n",
        "model.fit(x, y, epochs=10)"
      ],
      "execution_count": null,
      "outputs": [
        {
          "output_type": "stream",
          "text": [
            "Epoch 1/10\n",
            "1/1 [==============================] - 0s 4ms/step - loss: 5.4988e-04\n",
            "Epoch 2/10\n",
            "1/1 [==============================] - 0s 6ms/step - loss: 5.4949e-04\n",
            "Epoch 3/10\n",
            "1/1 [==============================] - 0s 6ms/step - loss: 5.4929e-04\n",
            "Epoch 4/10\n",
            "1/1 [==============================] - 0s 5ms/step - loss: 5.4905e-04\n",
            "Epoch 5/10\n",
            "1/1 [==============================] - 0s 4ms/step - loss: 5.4877e-04\n",
            "Epoch 6/10\n",
            "1/1 [==============================] - 0s 4ms/step - loss: 5.4854e-04\n",
            "Epoch 7/10\n",
            "1/1 [==============================] - 0s 4ms/step - loss: 5.4817e-04\n",
            "Epoch 8/10\n",
            "1/1 [==============================] - 0s 5ms/step - loss: 5.4778e-04\n",
            "Epoch 9/10\n",
            "1/1 [==============================] - 0s 5ms/step - loss: 5.4738e-04\n",
            "Epoch 10/10\n",
            "1/1 [==============================] - 0s 5ms/step - loss: 5.4696e-04\n"
          ],
          "name": "stdout"
        },
        {
          "output_type": "execute_result",
          "data": {
            "text/plain": [
              "<keras.callbacks.History at 0x7f13cec18b90>"
            ]
          },
          "metadata": {},
          "execution_count": 3
        }
      ]
    },
    {
      "cell_type": "code",
      "metadata": {
        "colab": {
          "base_uri": "https://localhost:8080/"
        },
        "id": "kFcY0RKlbL1X",
        "outputId": "56bd144e-8d73-406c-e42f-9ea500cb270e"
      },
      "source": [
        "# 모델을 이용합니다. \n",
        "model.predict(x)"
      ],
      "execution_count": null,
      "outputs": [
        {
          "output_type": "execute_result",
          "data": {
            "text/plain": [
              "array([[40.142704],\n",
              "       [42.092808],\n",
              "       [44.042915],\n",
              "       [45.993023],\n",
              "       [47.94313 ],\n",
              "       [49.893238]], dtype=float32)"
            ]
          },
          "metadata": {},
          "execution_count": 32
        }
      ]
    },
    {
      "cell_type": "code",
      "metadata": {
        "colab": {
          "base_uri": "https://localhost:8080/"
        },
        "id": "-5puW-wCbNRf",
        "outputId": "238f5049-2093-493c-884b-53f8e5d806e3"
      },
      "source": [
        "model.get_weights()"
      ],
      "execution_count": null,
      "outputs": [
        {
          "output_type": "execute_result",
          "data": {
            "text/plain": [
              "[array([[1.9501071]], dtype=float32), array([1.1405617], dtype=float32)]"
            ]
          },
          "metadata": {},
          "execution_count": 28
        }
      ]
    },
    {
      "cell_type": "code",
      "metadata": {
        "colab": {
          "base_uri": "https://localhost:8080/"
        },
        "id": "-VGy2nTxpY6X",
        "outputId": "a727dd2b-07de-4211-fd3e-0996b17fe8fb"
      },
      "source": [
        "# 판매량 = 1.9501071 * 온도 + 1.1405617\n",
        "판매량 = 1.9501071 * 22 + 1.1405617\n",
        "판매량"
      ],
      "execution_count": null,
      "outputs": [
        {
          "output_type": "execute_result",
          "data": {
            "text/plain": [
              "44.0429179"
            ]
          },
          "metadata": {},
          "execution_count": 35
        }
      ]
    },
    {
      "cell_type": "markdown",
      "metadata": {
        "id": "LOOu1-b2x3Uf"
      },
      "source": [
        "# 2. 보스턴 집값 예측"
      ]
    },
    {
      "cell_type": "code",
      "metadata": {
        "colab": {
          "base_uri": "https://localhost:8080/"
        },
        "id": "Mg0qI9vIqC5C",
        "outputId": "7bf6fba4-3181-4cef-a83c-f978d520fae7"
      },
      "source": [
        "import pandas as pd\n",
        "\n",
        "# 데이터를 준비합니다. \n",
        "path = \"https://raw.githubusercontent.com/blackdew/ml-tensorflow/master/data/csv/boston.csv\"\n",
        "data = pd.read_csv(path)\n",
        "print(data.shape)\n",
        "data.columns\n",
        "\n",
        "x = data[['crim', 'zn', 'indus', 'chas', 'nox', 'rm', 'age', 'dis', 'rad', 'tax', 'ptratio', 'b', 'lstat']]\n",
        "y = data[['medv']]\n",
        "print(x.shape, y.shape)"
      ],
      "execution_count": null,
      "outputs": [
        {
          "output_type": "stream",
          "text": [
            "(506, 14)\n",
            "(506, 13) (506, 1)\n"
          ],
          "name": "stdout"
        }
      ]
    },
    {
      "cell_type": "code",
      "metadata": {
        "colab": {
          "base_uri": "https://localhost:8080/"
        },
        "id": "UIvbnfosx9gO",
        "outputId": "0da3ba68-32f6-4988-c87e-139c736637bf"
      },
      "source": [
        "import tensorflow as tf\n",
        "# 모델을 준비합니다. \n",
        "\n",
        "X = tf.keras.layers.Input(shape=[13])\n",
        "Y = tf.keras.layers.Dense(1)(X)\n",
        "model = tf.keras.models.Model(X, Y)\n",
        "model.compile(loss='mse')\n",
        "\n",
        "model.summary()"
      ],
      "execution_count": null,
      "outputs": [
        {
          "output_type": "stream",
          "text": [
            "Model: \"model_4\"\n",
            "_________________________________________________________________\n",
            "Layer (type)                 Output Shape              Param #   \n",
            "=================================================================\n",
            "input_5 (InputLayer)         [(None, 13)]              0         \n",
            "_________________________________________________________________\n",
            "dense_4 (Dense)              (None, 1)                 14        \n",
            "=================================================================\n",
            "Total params: 14\n",
            "Trainable params: 14\n",
            "Non-trainable params: 0\n",
            "_________________________________________________________________\n"
          ],
          "name": "stdout"
        }
      ]
    },
    {
      "cell_type": "code",
      "metadata": {
        "id": "Pbxjf8zSx_FD"
      },
      "source": [
        "# 모델을 학습합니다. \n",
        "model.fit(x, y, epochs=300, verbose=0)\n",
        "model.fit(x, y, epochs=10)"
      ],
      "execution_count": null,
      "outputs": []
    },
    {
      "cell_type": "code",
      "metadata": {
        "id": "j380REICyAZs"
      },
      "source": [
        "# 모델을 이용합니다. \n",
        "model.predict(x[-5:])"
      ],
      "execution_count": null,
      "outputs": []
    },
    {
      "cell_type": "code",
      "metadata": {
        "id": "Ad65af90zhPX"
      },
      "source": [
        "y[-5:]"
      ],
      "execution_count": null,
      "outputs": []
    },
    {
      "cell_type": "code",
      "metadata": {
        "colab": {
          "base_uri": "https://localhost:8080/"
        },
        "id": "NwjJb1pY0CfK",
        "outputId": "4d5adf14-00bf-40e8-92fb-3132b726782a"
      },
      "source": [
        "model.get_weights()"
      ],
      "execution_count": null,
      "outputs": [
        {
          "output_type": "execute_result",
          "data": {
            "text/plain": [
              "[array([[-0.08932897],\n",
              "        [ 0.06831625],\n",
              "        [-0.05585582],\n",
              "        [ 3.258068  ],\n",
              "        [ 1.890527  ],\n",
              "        [ 4.412778  ],\n",
              "        [ 0.00682548],\n",
              "        [-0.9420162 ],\n",
              "        [ 0.15380481],\n",
              "        [-0.0103006 ],\n",
              "        [-0.09796963],\n",
              "        [ 0.01550298],\n",
              "        [-0.5451075 ]], dtype=float32), array([2.5463934], dtype=float32)]"
            ]
          },
          "metadata": {},
          "execution_count": 60
        }
      ]
    },
    {
      "cell_type": "code",
      "metadata": {
        "id": "oQ208v9u0coF"
      },
      "source": [
        "medv = -0.08932897 * x1 + 0.06831625 * x2 + ..... + -0.5451075 * x13 + 2.5463934"
      ],
      "execution_count": null,
      "outputs": []
    },
    {
      "cell_type": "markdown",
      "metadata": {
        "id": "LjvLROYT_Whz"
      },
      "source": [
        "# 3. 아이리스 품종 분류"
      ]
    },
    {
      "cell_type": "code",
      "metadata": {
        "id": "x29Teej__YhY"
      },
      "source": [
        "import pandas as pd\n",
        "# 데이터를 준비합니다. \n",
        "\n",
        "path = 'https://raw.githubusercontent.com/blackdew/ml-tensorflow/master/data/csv/iris.csv'\n",
        "data = pd.read_csv(path)\n",
        "print(data.shape)\n",
        "print(data.columns)\n",
        "print(data.info())\n",
        "onehot = pd.get_dummies(data)\n",
        "\n",
        "x = onehot[['꽃잎길이', '꽃잎폭', '꽃받침길이', '꽃받침폭']]\n",
        "y = onehot[['품종_setosa', '품종_versicolor', '품종_virginica']]\n",
        "print(x.shape, y.shape)"
      ],
      "execution_count": null,
      "outputs": []
    },
    {
      "cell_type": "code",
      "metadata": {
        "id": "PE53rF19_cA3"
      },
      "source": [
        "import tensorflow as tf\n",
        "\n",
        "# 모델을 준비합니다. \n",
        "X = tf.keras.layers.Input(shape=[4])\n",
        "Y = tf.keras.layers.Dense(3, activation='softmax')(X)\n",
        "model = tf.keras.models.Model(X, Y)\n",
        "model.compile(loss='categorical_crossentropy', metrics='accuracy')\n",
        "\n",
        "model.summary()"
      ],
      "execution_count": null,
      "outputs": []
    },
    {
      "cell_type": "code",
      "metadata": {
        "id": "sYl3cgJq_c_3"
      },
      "source": [
        "# 모델을 학습시킵니다.\n",
        "model.fit(x, y, epochs=100, verbose=0)\n",
        "model.fit(x, y, epochs=10)"
      ],
      "execution_count": null,
      "outputs": []
    },
    {
      "cell_type": "code",
      "metadata": {
        "id": "IT2fOiLwUYws"
      },
      "source": [
        "x[-5:]"
      ],
      "execution_count": null,
      "outputs": []
    },
    {
      "cell_type": "code",
      "metadata": {
        "colab": {
          "base_uri": "https://localhost:8080/"
        },
        "id": "5suqiBoI_edP",
        "outputId": "dbc516e9-d2ac-47a7-a175-d64ac059d543"
      },
      "source": [
        "# 모델을 이용합니다. \n",
        "model.predict(x[-5:])"
      ],
      "execution_count": null,
      "outputs": [
        {
          "output_type": "execute_result",
          "data": {
            "text/plain": [
              "array([[0.04194402, 0.27288052, 0.6851755 ],\n",
              "       [0.05601064, 0.27681518, 0.6671742 ],\n",
              "       [0.06692649, 0.3184982 , 0.61457527],\n",
              "       [0.05338761, 0.30664125, 0.6399712 ],\n",
              "       [0.09186772, 0.34706968, 0.5610626 ]], dtype=float32)"
            ]
          },
          "metadata": {},
          "execution_count": 7
        }
      ]
    },
    {
      "cell_type": "code",
      "metadata": {
        "colab": {
          "base_uri": "https://localhost:8080/",
          "height": 205
        },
        "id": "Rc724gSV_faY",
        "outputId": "1328b901-6c47-4bb0-8dde-39ff9d425088"
      },
      "source": [
        "y[-5:]"
      ],
      "execution_count": null,
      "outputs": [
        {
          "output_type": "execute_result",
          "data": {
            "text/html": [
              "<div>\n",
              "<style scoped>\n",
              "    .dataframe tbody tr th:only-of-type {\n",
              "        vertical-align: middle;\n",
              "    }\n",
              "\n",
              "    .dataframe tbody tr th {\n",
              "        vertical-align: top;\n",
              "    }\n",
              "\n",
              "    .dataframe thead th {\n",
              "        text-align: right;\n",
              "    }\n",
              "</style>\n",
              "<table border=\"1\" class=\"dataframe\">\n",
              "  <thead>\n",
              "    <tr style=\"text-align: right;\">\n",
              "      <th></th>\n",
              "      <th>품종_setosa</th>\n",
              "      <th>품종_versicolor</th>\n",
              "      <th>품종_virginica</th>\n",
              "    </tr>\n",
              "  </thead>\n",
              "  <tbody>\n",
              "    <tr>\n",
              "      <th>145</th>\n",
              "      <td>0</td>\n",
              "      <td>0</td>\n",
              "      <td>1</td>\n",
              "    </tr>\n",
              "    <tr>\n",
              "      <th>146</th>\n",
              "      <td>0</td>\n",
              "      <td>0</td>\n",
              "      <td>1</td>\n",
              "    </tr>\n",
              "    <tr>\n",
              "      <th>147</th>\n",
              "      <td>0</td>\n",
              "      <td>0</td>\n",
              "      <td>1</td>\n",
              "    </tr>\n",
              "    <tr>\n",
              "      <th>148</th>\n",
              "      <td>0</td>\n",
              "      <td>0</td>\n",
              "      <td>1</td>\n",
              "    </tr>\n",
              "    <tr>\n",
              "      <th>149</th>\n",
              "      <td>0</td>\n",
              "      <td>0</td>\n",
              "      <td>1</td>\n",
              "    </tr>\n",
              "  </tbody>\n",
              "</table>\n",
              "</div>"
            ],
            "text/plain": [
              "     품종_setosa  품종_versicolor  품종_virginica\n",
              "145          0              0             1\n",
              "146          0              0             1\n",
              "147          0              0             1\n",
              "148          0              0             1\n",
              "149          0              0             1"
            ]
          },
          "metadata": {},
          "execution_count": 8
        }
      ]
    },
    {
      "cell_type": "code",
      "metadata": {
        "colab": {
          "base_uri": "https://localhost:8080/"
        },
        "id": "XcfaKZ7CC5Bq",
        "outputId": "5ee7c98f-4597-42c5-c108-df0b5f9733bc"
      },
      "source": [
        "model.get_weights()"
      ],
      "execution_count": null,
      "outputs": [
        {
          "output_type": "execute_result",
          "data": {
            "text/plain": [
              "[array([[ 1.4538002,  0.465575 , -1.0285187],\n",
              "        [ 4.8266187,  1.2368513, -1.0901021],\n",
              "        [-5.3839087, -0.2599829,  2.1557646],\n",
              "        [-7.5328484, -2.4872448,  2.8319511]], dtype=float32),\n",
              " array([ 3.189764 ,  1.8772011, -2.695162 ], dtype=float32)]"
            ]
          },
          "metadata": {},
          "execution_count": 103
        }
      ]
    },
    {
      "cell_type": "markdown",
      "metadata": {
        "id": "68hCd2s1HvH0"
      },
      "source": [
        "# 4. 진짜 인공신경망"
      ]
    },
    {
      "cell_type": "code",
      "metadata": {
        "colab": {
          "base_uri": "https://localhost:8080/"
        },
        "id": "h3PDC-OyENWW",
        "outputId": "9f0b2877-5327-4dee-c9a6-49b273f6ea86"
      },
      "source": [
        "import pandas as pd\n",
        "\n",
        "# 데이터를 준비합니다. \n",
        "path = \"https://raw.githubusercontent.com/blackdew/ml-tensorflow/master/data/csv/boston.csv\"\n",
        "data = pd.read_csv(path)\n",
        "print(data.shape)\n",
        "data.columns\n",
        "\n",
        "x = data[['crim', 'zn', 'indus', 'chas', 'nox', 'rm', 'age', 'dis', 'rad', 'tax', 'ptratio', 'b', 'lstat']]\n",
        "y = data[['medv']]\n",
        "print(x.shape, y.shape)"
      ],
      "execution_count": null,
      "outputs": [
        {
          "output_type": "stream",
          "text": [
            "(506, 14)\n",
            "(506, 13) (506, 1)\n"
          ],
          "name": "stdout"
        }
      ]
    },
    {
      "cell_type": "code",
      "metadata": {
        "id": "hEnQ-7B2Hz7D"
      },
      "source": [
        "import tensorflow as tf\n",
        "# 모델을 준비합니다. \n",
        "\n",
        "X = tf.keras.layers.Input(shape=[13])\n",
        "H = tf.keras.layers.Dense(5, activation='swish')(X)\n",
        "H = tf.keras.layers.Dense(3, activation='swish')(H)\n",
        "H = tf.keras.layers.Dense(3, activation='swish')(H)\n",
        "Y = tf.keras.layers.Dense(1)(H)\n",
        "model = tf.keras.models.Model(X, Y)\n",
        "model.compile(loss='mse')\n",
        "\n",
        "model.summary()"
      ],
      "execution_count": null,
      "outputs": []
    },
    {
      "cell_type": "code",
      "metadata": {
        "id": "wg0eYOWBH3ru"
      },
      "source": [
        "# 모델을 학습합니다. \n",
        "model.fit(x, y, epochs=1000, verbose=0)\n",
        "model.fit(x, y, epochs=10)"
      ],
      "execution_count": null,
      "outputs": []
    },
    {
      "cell_type": "markdown",
      "metadata": {
        "id": "2Zn0bgIMYSVe"
      },
      "source": [
        "# 4. 텐서플로우의 이해"
      ]
    },
    {
      "cell_type": "markdown",
      "metadata": {
        "id": "tr2FNUzrYYNQ"
      },
      "source": [
        "## 4.1 모델을 구성하는 여러가지 방법"
      ]
    },
    {
      "cell_type": "markdown",
      "metadata": {
        "id": "0c6_m7R0i9Ux"
      },
      "source": [
        "1. Functional vs Sequential\n",
        "2. parameter optimizer\n",
        "3. activation layer 사용하는 것\n",
        "4. layers, activations, optimzers, losses"
      ]
    },
    {
      "cell_type": "code",
      "metadata": {
        "colab": {
          "base_uri": "https://localhost:8080/"
        },
        "id": "yQaHHSdvM82H",
        "outputId": "715a4ac4-0c8a-4a14-b250-9ca4cc2d35fa"
      },
      "source": [
        "import pandas as pd\n",
        "\n",
        "# 데이터를 준비합니다. \n",
        "path = \"https://raw.githubusercontent.com/blackdew/ml-tensorflow/master/data/csv/boston.csv\"\n",
        "data = pd.read_csv(path)\n",
        "print(data.shape)\n",
        "data.columns\n",
        "\n",
        "x = data[['crim', 'zn', 'indus', 'chas', 'nox', 'rm', 'age', 'dis', 'rad', 'tax', 'ptratio', 'b', 'lstat']]\n",
        "y = data[['medv']]\n",
        "print(x.shape, y.shape)"
      ],
      "execution_count": null,
      "outputs": [
        {
          "output_type": "stream",
          "text": [
            "(506, 14)\n",
            "(506, 13) (506, 1)\n"
          ],
          "name": "stdout"
        }
      ]
    },
    {
      "cell_type": "code",
      "metadata": {
        "colab": {
          "base_uri": "https://localhost:8080/",
          "height": 758
        },
        "id": "YnfxtvXIf6af",
        "outputId": "4d106e0c-4fb8-42de-c609-f56011da7c04"
      },
      "source": [
        "import tensorflow as tf\n",
        "# 모델을 준비합니다. \n",
        "\n",
        "# functional\n",
        "X = tf.keras.layers.Input(shape=[13])\n",
        "H = tf.keras.layers.Dense(5)(X)\n",
        "H = tf.keras.layers.Activation(tf.keras.activations.swish)(H)\n",
        "H = tf.keras.layers.Dense(3)(H)\n",
        "H = tf.keras.layers.Activation('swish')(H)\n",
        "H = tf.keras.layers.Dense(3)(H)\n",
        "H = tf.keras.layers.Activation('swish')(H)\n",
        "Y = tf.keras.layers.Dense(1)(H)\n",
        "\n",
        "model = tf.keras.models.Model(X, Y)\n",
        "model.compile(optimizer=tf.keras.optimizers.RMSprop(), loss=tf.keras.losses.mse)\n",
        "\n",
        "tf.keras.utils.plot_model(model)"
      ],
      "execution_count": null,
      "outputs": [
        {
          "output_type": "execute_result",
          "data": {
            "image/png": "[encoded data removed]",
            "text/plain": [
              "<IPython.core.display.Image object>"
            ]
          },
          "metadata": {},
          "execution_count": 33
        }
      ]
    },
    {
      "cell_type": "code",
      "metadata": {
        "colab": {
          "base_uri": "https://localhost:8080/"
        },
        "id": "oczFSXx0gq7Q",
        "outputId": "2ee28c28-1cfc-4ef1-b8c4-8ab119bca668"
      },
      "source": [
        "model.fit(x, y, epochs=10, batch_size=128, shuffle=True)"
      ],
      "execution_count": null,
      "outputs": [
        {
          "output_type": "stream",
          "text": [
            "Epoch 1/10\n",
            "4/4 [==============================] - 1s 3ms/step - loss: 2565.5720\n",
            "Epoch 2/10\n",
            "4/4 [==============================] - 0s 4ms/step - loss: 1938.7932\n",
            "Epoch 3/10\n",
            "4/4 [==============================] - 0s 3ms/step - loss: 1582.7911\n",
            "Epoch 4/10\n",
            "4/4 [==============================] - 0s 3ms/step - loss: 1320.6766\n",
            "Epoch 5/10\n",
            "4/4 [==============================] - 0s 3ms/step - loss: 1112.6003\n",
            "Epoch 6/10\n",
            "4/4 [==============================] - 0s 3ms/step - loss: 941.3575\n",
            "Epoch 7/10\n",
            "4/4 [==============================] - 0s 4ms/step - loss: 796.9983\n",
            "Epoch 8/10\n",
            "4/4 [==============================] - 0s 3ms/step - loss: 674.5152\n",
            "Epoch 9/10\n",
            "4/4 [==============================] - 0s 3ms/step - loss: 570.9585\n",
            "Epoch 10/10\n",
            "4/4 [==============================] - 0s 3ms/step - loss: 483.9944\n"
          ],
          "name": "stdout"
        },
        {
          "output_type": "execute_result",
          "data": {
            "text/plain": [
              "<keras.callbacks.History at 0x7f13ce780250>"
            ]
          },
          "metadata": {},
          "execution_count": 25
        }
      ]
    },
    {
      "cell_type": "code",
      "metadata": {
        "id": "een1eyKfYsR7"
      },
      "source": [
        "import tensorflow as tf\n",
        "# 모델을 준비합니다. \n",
        "\n",
        "# functional\n",
        "X = tf.keras.layers.Input(shape=[13])\n",
        "H1 = tf.keras.layers.Dense(5, activation='swish')(X)\n",
        "H2 = tf.keras.layers.Dense(5, activation='swish')(X)\n",
        "H3 = tf.keras.layers.Dense(5, activation='swish')(H2)\n",
        "H4 = tf.keras.layers.Add()([H1, H3])\n",
        "H = tf.keras.layers.Dense(3, activation='swish')(H4)\n",
        "Y = tf.keras.layers.Dense(1)(H)\n",
        "\n",
        "model = tf.keras.models.Model(X, Y)\n",
        "model.compile(loss='mse')\n",
        "\n",
        "tf.keras.utils.plot_model(model)"
      ],
      "execution_count": null,
      "outputs": []
    },
    {
      "cell_type": "code",
      "metadata": {
        "id": "RooexYMGYt_R"
      },
      "source": [
        "# sequential\n",
        "model_seq = tf.keras.models.Sequential()\n",
        "model_seq.add(tf.keras.layers.Input(shape=[13]))\n",
        "model_seq.add(tf.keras.layers.Dense(5, activation='swish'))\n",
        "model_seq.add(tf.keras.layers.Dense(3, activation='swish'))\n",
        "model_seq.add(tf.keras.layers.Dense(3, activation='swish'))\n",
        "model_seq.add(tf.keras.layers.Dense(1))\n",
        "model_seq.compile(loss='mse')\n",
        "\n",
        "tf.keras.utils.plot_model(model_seq)"
      ],
      "execution_count": null,
      "outputs": []
    },
    {
      "cell_type": "code",
      "metadata": {
        "id": "iY0xfmtLZ-Uq"
      },
      "source": [
        "model_seq.fit(x, y, epochs=100)"
      ],
      "execution_count": null,
      "outputs": []
    },
    {
      "cell_type": "markdown",
      "metadata": {
        "id": "apadJR_lwx6m"
      },
      "source": [
        "## 4.2 Train / Test / Validaion\n",
        "- Train: 학습\n",
        "- Test: 수능시험\n",
        "- Validation: 모의고사"
      ]
    },
    {
      "cell_type": "code",
      "metadata": {
        "colab": {
          "base_uri": "https://localhost:8080/"
        },
        "id": "C6FRTL2UaKxB",
        "outputId": "2b780619-2887-4011-cf36-5d8b1c04d346"
      },
      "source": [
        "import pandas as pd\n",
        "\n",
        "# 데이터를 준비합니다. \n",
        "path = \"https://raw.githubusercontent.com/blackdew/ml-tensorflow/master/data/csv/boston.csv\"\n",
        "data = pd.read_csv(path)\n",
        "print(data.shape)\n",
        "data.columns\n",
        "\n",
        "num = int(506 * 0.7)\n",
        "print(num)\n",
        "\n",
        "train, test = data[:num], data[num:]\n",
        "print(train.shape, test.shape)"
      ],
      "execution_count": null,
      "outputs": [
        {
          "output_type": "stream",
          "text": [
            "(506, 14)\n",
            "354\n",
            "(354, 14) (152, 14)\n"
          ],
          "name": "stdout"
        }
      ]
    },
    {
      "cell_type": "code",
      "metadata": {
        "colab": {
          "base_uri": "https://localhost:8080/"
        },
        "id": "AEXXnZtgw75P",
        "outputId": "6ec06003-b0ce-4e88-8873-c88ec53374f5"
      },
      "source": [
        "x_train = train[['crim', 'zn', 'indus', 'chas', 'nox', 'rm', 'age', 'dis', 'rad', 'tax', 'ptratio', 'b', 'lstat']]\n",
        "y_train = train[['medv']]\n",
        "print(x_train.shape, y_train.shape)\n",
        "\n",
        "x_test = test[['crim', 'zn', 'indus', 'chas', 'nox', 'rm', 'age', 'dis', 'rad', 'tax', 'ptratio', 'b', 'lstat']]\n",
        "y_test = test[['medv']]\n",
        "print(x_test.shape, y_test.shape)"
      ],
      "execution_count": null,
      "outputs": [
        {
          "output_type": "stream",
          "text": [
            "(354, 13) (354, 1)\n",
            "(152, 13) (152, 1)\n"
          ],
          "name": "stdout"
        }
      ]
    },
    {
      "cell_type": "code",
      "metadata": {
        "colab": {
          "base_uri": "https://localhost:8080/",
          "height": 758
        },
        "id": "_P57V5DWyXUJ",
        "outputId": "dfdc9b60-cbba-45fe-d3f6-760371f91492"
      },
      "source": [
        "import tensorflow as tf\n",
        "# 모델을 준비합니다. \n",
        "\n",
        "# functional\n",
        "X = tf.keras.layers.Input(shape=[13])\n",
        "H = tf.keras.layers.Dense(5)(X)\n",
        "H = tf.keras.layers.Activation('swish')(H)\n",
        "H = tf.keras.layers.Dense(3)(H)\n",
        "H = tf.keras.layers.Activation('swish')(H)\n",
        "H = tf.keras.layers.Dense(3)(H)\n",
        "H = tf.keras.layers.Activation('swish')(H)\n",
        "Y = tf.keras.layers.Dense(1)(H)\n",
        "\n",
        "model = tf.keras.models.Model(X, Y)\n",
        "model.compile(optimizer='rmsprop', loss='mse')\n",
        "\n",
        "tf.keras.utils.plot_model(model)"
      ],
      "execution_count": null,
      "outputs": [
        {
          "output_type": "execute_result",
          "data": {
            "image/png": "[encoded data removed]",
            "text/plain": [
              "<IPython.core.display.Image object>"
            ]
          },
          "metadata": {},
          "execution_count": 50
        }
      ]
    },
    {
      "cell_type": "code",
      "metadata": {
        "colab": {
          "base_uri": "https://localhost:8080/"
        },
        "id": "fWk_-xs0yxQY",
        "outputId": "e4b058a4-fae2-421a-b2a7-44cc93e3d328"
      },
      "source": [
        "model.fit(x_train, y_train, epochs=10, batch_size=128, shuffle=True, validation_split=0.2)"
      ],
      "execution_count": null,
      "outputs": [
        {
          "output_type": "stream",
          "text": [
            "Epoch 1/10\n",
            "3/3 [==============================] - 0s 43ms/step - loss: 13.6148 - val_loss: 16.0119\n",
            "Epoch 2/10\n",
            "3/3 [==============================] - 0s 12ms/step - loss: 13.5352 - val_loss: 16.5780\n",
            "Epoch 3/10\n",
            "3/3 [==============================] - 0s 13ms/step - loss: 12.8353 - val_loss: 18.7657\n",
            "Epoch 4/10\n",
            "3/3 [==============================] - 0s 14ms/step - loss: 12.9440 - val_loss: 14.3190\n",
            "Epoch 5/10\n",
            "3/3 [==============================] - 0s 13ms/step - loss: 13.4970 - val_loss: 15.6758\n",
            "Epoch 6/10\n",
            "3/3 [==============================] - 0s 12ms/step - loss: 12.9155 - val_loss: 15.4301\n",
            "Epoch 7/10\n",
            "3/3 [==============================] - 0s 12ms/step - loss: 13.1818 - val_loss: 14.4433\n",
            "Epoch 8/10\n",
            "3/3 [==============================] - 0s 14ms/step - loss: 13.5784 - val_loss: 17.7783\n",
            "Epoch 9/10\n",
            "3/3 [==============================] - 0s 12ms/step - loss: 12.7510 - val_loss: 16.5121\n",
            "Epoch 10/10\n",
            "3/3 [==============================] - 0s 11ms/step - loss: 12.7778 - val_loss: 16.0351\n"
          ],
          "name": "stdout"
        },
        {
          "output_type": "execute_result",
          "data": {
            "text/plain": [
              "<keras.callbacks.History at 0x7f13cbc31210>"
            ]
          },
          "metadata": {},
          "execution_count": 55
        }
      ]
    },
    {
      "cell_type": "code",
      "metadata": {
        "colab": {
          "base_uri": "https://localhost:8080/"
        },
        "id": "Ch9tqBctzI8p",
        "outputId": "ecf469b3-af32-4f64-ea80-2e8c7c194bcf"
      },
      "source": [
        "model.evaluate(x_test, y_test)"
      ],
      "execution_count": null,
      "outputs": [
        {
          "output_type": "stream",
          "text": [
            "5/5 [==============================] - 0s 2ms/step - loss: 2239.2683\n"
          ],
          "name": "stdout"
        },
        {
          "output_type": "execute_result",
          "data": {
            "text/plain": [
              "2239.268310546875"
            ]
          },
          "metadata": {},
          "execution_count": 54
        }
      ]
    },
    {
      "cell_type": "markdown",
      "metadata": {
        "id": "Hlk2_V9w0vjg"
      },
      "source": [
        "- train loss: 12.7778\n",
        "- val loss: 16.0351\n",
        "- test loss: 2239.2683\n"
      ]
    },
    {
      "cell_type": "markdown",
      "metadata": {
        "id": "2fRa0DbxBKjy"
      },
      "source": [
        "## 4.2 mnist"
      ]
    },
    {
      "cell_type": "code",
      "metadata": {
        "colab": {
          "base_uri": "https://localhost:8080/"
        },
        "id": "J5fJYuuizsne",
        "outputId": "39009c91-75c2-4be4-82cd-d3c9cca045a9"
      },
      "source": [
        "import tensorflow as tf\n",
        "\n",
        "(x_train, y_train), (x_test, y_test) = tf.keras.datasets.mnist.load_data()\n",
        "print(x_train.shape, y_train.shape)\n",
        "print(x_test.shape, y_test.shape)"
      ],
      "execution_count": null,
      "outputs": [
        {
          "output_type": "stream",
          "text": [
            "Downloading data from https://storage.googleapis.com/tensorflow/tf-keras-datasets/mnist.npz\n",
            "11493376/11490434 [==============================] - 0s 0us/step\n",
            "11501568/11490434 [==============================] - 0s 0us/step\n",
            "(60000, 28, 28) (60000,)\n",
            "(10000, 28, 28) (10000,)\n"
          ],
          "name": "stdout"
        }
      ]
    },
    {
      "cell_type": "code",
      "metadata": {
        "colab": {
          "base_uri": "https://localhost:8080/",
          "height": 302
        },
        "id": "Sp8HjTC3BexP",
        "outputId": "5232356a-f2f4-45ce-ad6d-43f6f3fea9d0"
      },
      "source": [
        "import matplotlib.pyplot as plt\n",
        "\n",
        "print(y_train[10])\n",
        "plt.imshow(x_train[10])"
      ],
      "execution_count": null,
      "outputs": [
        {
          "output_type": "stream",
          "text": [
            "3\n"
          ],
          "name": "stdout"
        },
        {
          "output_type": "execute_result",
          "data": {
            "text/plain": [
              "<matplotlib.image.AxesImage at 0x7f13cbaadf90>"
            ]
          },
          "metadata": {},
          "execution_count": 61
        },
        {
          "output_type": "display_data",
          "data": {
            "image/png": "[encoded data removed]",
            "text/plain": [
              "<Figure size 432x288 with 1 Axes>"
            ]
          },
          "metadata": {
            "needs_background": "light"
          }
        }
      ]
    },
    {
      "cell_type": "code",
      "metadata": {
        "colab": {
          "base_uri": "https://localhost:8080/"
        },
        "id": "Sw4ZkEVBB_Pt",
        "outputId": "36e03a08-bdd5-4c55-91ea-04c688af58b4"
      },
      "source": [
        "# 6000장의 이미지를 칼럼이 784개인 표로 옮기기\n",
        "x_train = x_train.reshape(60000, 784)\n",
        "x_test = x_test.reshape(10000, 784)\n",
        "print(x_train.shape, x_test.shape)"
      ],
      "execution_count": null,
      "outputs": [
        {
          "output_type": "stream",
          "text": [
            "(60000, 784) (10000, 784)\n"
          ],
          "name": "stdout"
        }
      ]
    },
    {
      "cell_type": "code",
      "metadata": {
        "colab": {
          "base_uri": "https://localhost:8080/"
        },
        "id": "3UV8SPu3C4lI",
        "outputId": "4bf3c8bb-4e51-4867-db05-d22d83136e7a"
      },
      "source": [
        "# 종속변수를 원핫인코딩\n",
        "import pandas as pd\n",
        "y_train = pd.get_dummies(y_train)\n",
        "y_test = pd.get_dummies(y_test)\n",
        "print(y_train.shape, y_test.shape)"
      ],
      "execution_count": null,
      "outputs": [
        {
          "output_type": "stream",
          "text": [
            "(60000, 10) (10000, 10)\n"
          ],
          "name": "stdout"
        }
      ]
    },
    {
      "cell_type": "code",
      "metadata": {
        "colab": {
          "base_uri": "https://localhost:8080/",
          "height": 205
        },
        "id": "FA53LsOZEL9C",
        "outputId": "e7b7280e-558a-4461-a14a-9747fdf467be"
      },
      "source": [
        "y_train.head()"
      ],
      "execution_count": null,
      "outputs": [
        {
          "output_type": "execute_result",
          "data": {
            "text/html": [
              "<div>\n",
              "<style scoped>\n",
              "    .dataframe tbody tr th:only-of-type {\n",
              "        vertical-align: middle;\n",
              "    }\n",
              "\n",
              "    .dataframe tbody tr th {\n",
              "        vertical-align: top;\n",
              "    }\n",
              "\n",
              "    .dataframe thead th {\n",
              "        text-align: right;\n",
              "    }\n",
              "</style>\n",
              "<table border=\"1\" class=\"dataframe\">\n",
              "  <thead>\n",
              "    <tr style=\"text-align: right;\">\n",
              "      <th></th>\n",
              "      <th>0</th>\n",
              "      <th>1</th>\n",
              "      <th>2</th>\n",
              "      <th>3</th>\n",
              "      <th>4</th>\n",
              "      <th>5</th>\n",
              "      <th>6</th>\n",
              "      <th>7</th>\n",
              "      <th>8</th>\n",
              "      <th>9</th>\n",
              "    </tr>\n",
              "  </thead>\n",
              "  <tbody>\n",
              "    <tr>\n",
              "      <th>0</th>\n",
              "      <td>0</td>\n",
              "      <td>0</td>\n",
              "      <td>0</td>\n",
              "      <td>0</td>\n",
              "      <td>0</td>\n",
              "      <td>1</td>\n",
              "      <td>0</td>\n",
              "      <td>0</td>\n",
              "      <td>0</td>\n",
              "      <td>0</td>\n",
              "    </tr>\n",
              "    <tr>\n",
              "      <th>1</th>\n",
              "      <td>1</td>\n",
              "      <td>0</td>\n",
              "      <td>0</td>\n",
              "      <td>0</td>\n",
              "      <td>0</td>\n",
              "      <td>0</td>\n",
              "      <td>0</td>\n",
              "      <td>0</td>\n",
              "      <td>0</td>\n",
              "      <td>0</td>\n",
              "    </tr>\n",
              "    <tr>\n",
              "      <th>2</th>\n",
              "      <td>0</td>\n",
              "      <td>0</td>\n",
              "      <td>0</td>\n",
              "      <td>0</td>\n",
              "      <td>1</td>\n",
              "      <td>0</td>\n",
              "      <td>0</td>\n",
              "      <td>0</td>\n",
              "      <td>0</td>\n",
              "      <td>0</td>\n",
              "    </tr>\n",
              "    <tr>\n",
              "      <th>3</th>\n",
              "      <td>0</td>\n",
              "      <td>1</td>\n",
              "      <td>0</td>\n",
              "      <td>0</td>\n",
              "      <td>0</td>\n",
              "      <td>0</td>\n",
              "      <td>0</td>\n",
              "      <td>0</td>\n",
              "      <td>0</td>\n",
              "      <td>0</td>\n",
              "    </tr>\n",
              "    <tr>\n",
              "      <th>4</th>\n",
              "      <td>0</td>\n",
              "      <td>0</td>\n",
              "      <td>0</td>\n",
              "      <td>0</td>\n",
              "      <td>0</td>\n",
              "      <td>0</td>\n",
              "      <td>0</td>\n",
              "      <td>0</td>\n",
              "      <td>0</td>\n",
              "      <td>1</td>\n",
              "    </tr>\n",
              "  </tbody>\n",
              "</table>\n",
              "</div>"
            ],
            "text/plain": [
              "   0  1  2  3  4  5  6  7  8  9\n",
              "0  0  0  0  0  0  1  0  0  0  0\n",
              "1  1  0  0  0  0  0  0  0  0  0\n",
              "2  0  0  0  0  1  0  0  0  0  0\n",
              "3  0  1  0  0  0  0  0  0  0  0\n",
              "4  0  0  0  0  0  0  0  0  0  1"
            ]
          },
          "metadata": {},
          "execution_count": 68
        }
      ]
    },
    {
      "cell_type": "code",
      "metadata": {
        "colab": {
          "base_uri": "https://localhost:8080/"
        },
        "id": "3JF39_36ENpt",
        "outputId": "3ad7bdc0-205a-488c-f2fe-f6573f9c2a05"
      },
      "source": [
        "# model 만들기 \n",
        "\n",
        "X = tf.keras.layers.Input(shape=[784])\n",
        "\n",
        "H = tf.keras.layers.Dense(128)(X)\n",
        "H = tf.keras.layers.BatchNormalization()(H)\n",
        "H = tf.keras.layers.Activation('relu')(H)\n",
        "\n",
        "H = tf.keras.layers.Dense(128)(H)\n",
        "H = tf.keras.layers.BatchNormalization()(H)\n",
        "H = tf.keras.layers.Activation('relu')(H)\n",
        "\n",
        "H = tf.keras.layers.Dense(128)(H)\n",
        "H = tf.keras.layers.BatchNormalization()(H)\n",
        "H = tf.keras.layers.Activation('relu')(H)\n",
        "\n",
        "Y = tf.keras.layers.Dense(10, activation='softmax')(H)\n",
        "model = tf.keras.models.Model(X, Y)\n",
        "model.compile(loss='categorical_crossentropy', metrics='accuracy')\n",
        "\n",
        "model.summary()"
      ],
      "execution_count": null,
      "outputs": [
        {
          "output_type": "stream",
          "text": [
            "Model: \"model_21\"\n",
            "_________________________________________________________________\n",
            "Layer (type)                 Output Shape              Param #   \n",
            "=================================================================\n",
            "input_26 (InputLayer)        [(None, 784)]             0         \n",
            "_________________________________________________________________\n",
            "dense_80 (Dense)             (None, 128)               100480    \n",
            "_________________________________________________________________\n",
            "batch_normalization (BatchNo (None, 128)               512       \n",
            "_________________________________________________________________\n",
            "activation_24 (Activation)   (None, 128)               0         \n",
            "_________________________________________________________________\n",
            "dense_81 (Dense)             (None, 128)               16512     \n",
            "_________________________________________________________________\n",
            "batch_normalization_1 (Batch (None, 128)               512       \n",
            "_________________________________________________________________\n",
            "activation_25 (Activation)   (None, 128)               0         \n",
            "_________________________________________________________________\n",
            "dense_82 (Dense)             (None, 128)               16512     \n",
            "_________________________________________________________________\n",
            "batch_normalization_2 (Batch (None, 128)               512       \n",
            "_________________________________________________________________\n",
            "activation_26 (Activation)   (None, 128)               0         \n",
            "_________________________________________________________________\n",
            "dense_83 (Dense)             (None, 10)                1290      \n",
            "=================================================================\n",
            "Total params: 136,330\n",
            "Trainable params: 135,562\n",
            "Non-trainable params: 768\n",
            "_________________________________________________________________\n"
          ],
          "name": "stdout"
        }
      ]
    },
    {
      "cell_type": "code",
      "metadata": {
        "colab": {
          "base_uri": "https://localhost:8080/"
        },
        "id": "sSRfqpa5E11-",
        "outputId": "fc2a5aef-7cf0-472d-f433-98ed677e5dd7"
      },
      "source": [
        "model.fit(x_train, y_train, epochs=10, batch_size=128, shuffle=True, validation_split=0.2)"
      ],
      "execution_count": null,
      "outputs": [
        {
          "output_type": "stream",
          "text": [
            "Epoch 1/10\n",
            "375/375 [==============================] - 4s 8ms/step - loss: 0.2369 - accuracy: 0.9314 - val_loss: 0.1368 - val_accuracy: 0.9588\n",
            "Epoch 2/10\n",
            "375/375 [==============================] - 3s 7ms/step - loss: 0.0898 - accuracy: 0.9719 - val_loss: 0.1107 - val_accuracy: 0.9661\n",
            "Epoch 3/10\n",
            "375/375 [==============================] - 3s 7ms/step - loss: 0.0615 - accuracy: 0.9810 - val_loss: 0.0990 - val_accuracy: 0.9718\n",
            "Epoch 4/10\n",
            "375/375 [==============================] - 3s 7ms/step - loss: 0.0453 - accuracy: 0.9856 - val_loss: 0.1156 - val_accuracy: 0.9668\n",
            "Epoch 5/10\n",
            "375/375 [==============================] - 3s 7ms/step - loss: 0.0336 - accuracy: 0.9895 - val_loss: 0.0982 - val_accuracy: 0.9735\n",
            "Epoch 6/10\n",
            "375/375 [==============================] - 3s 7ms/step - loss: 0.0281 - accuracy: 0.9908 - val_loss: 0.0926 - val_accuracy: 0.9762\n",
            "Epoch 7/10\n",
            "375/375 [==============================] - 3s 7ms/step - loss: 0.0218 - accuracy: 0.9929 - val_loss: 0.1043 - val_accuracy: 0.9728\n",
            "Epoch 8/10\n",
            "375/375 [==============================] - 3s 7ms/step - loss: 0.0182 - accuracy: 0.9937 - val_loss: 0.0920 - val_accuracy: 0.9783\n",
            "Epoch 9/10\n",
            "375/375 [==============================] - 3s 7ms/step - loss: 0.0175 - accuracy: 0.9938 - val_loss: 0.1103 - val_accuracy: 0.9733\n",
            "Epoch 10/10\n",
            "375/375 [==============================] - 3s 7ms/step - loss: 0.0146 - accuracy: 0.9951 - val_loss: 0.1051 - val_accuracy: 0.9762\n"
          ],
          "name": "stdout"
        },
        {
          "output_type": "execute_result",
          "data": {
            "text/plain": [
              "<keras.callbacks.History at 0x7f13ce790190>"
            ]
          },
          "metadata": {},
          "execution_count": 80
        }
      ]
    },
    {
      "cell_type": "code",
      "metadata": {
        "colab": {
          "base_uri": "https://localhost:8080/"
        },
        "id": "b75q2LPZFCTV",
        "outputId": "ba3b1e47-540d-4ee2-a72f-f1cf13ad1ce8"
      },
      "source": [
        "model.evaluate(x_test, y_test)"
      ],
      "execution_count": null,
      "outputs": [
        {
          "output_type": "stream",
          "text": [
            "313/313 [==============================] - 1s 2ms/step - loss: 0.0895 - accuracy: 0.9784\n"
          ],
          "name": "stdout"
        },
        {
          "output_type": "execute_result",
          "data": {
            "text/plain": [
              "[0.08947279304265976, 0.9783999919891357]"
            ]
          },
          "metadata": {},
          "execution_count": 81
        }
      ]
    },
    {
      "cell_type": "markdown",
      "metadata": {
        "id": "XZMW4BCRqSg8"
      },
      "source": [
        "## 복습. 딥러닝"
      ]
    },
    {
      "cell_type": "code",
      "metadata": {
        "colab": {
          "base_uri": "https://localhost:8080/"
        },
        "id": "pv_ZrEU7FUr-",
        "outputId": "e1773705-2190-41f1-f738-dc82a4ccf49b"
      },
      "source": [
        "# 데이터 준비하기\n",
        "x_input = [\n",
        "    [1, 2],\n",
        "    [1, 5],\n",
        "    [2, 2],\n",
        "    [2, 9],\n",
        "    [3, 1],\n",
        "    [3, 7],\n",
        "    [4, 3],\n",
        "    [4, 8],\n",
        "    [5, 8],\n",
        "    [5, 3],\n",
        "    [6, 5],\n",
        "    [6, 9],\n",
        "    [7, 3],\n",
        "    [7, 1],\n",
        "    [8, 5],\n",
        "    [8, 8],\n",
        "    [9, 4],\n",
        "    [9, 3],\n",
        "]\n",
        "y_label = [[sum(e), e[0] - e[1]] for e in x_input]\n",
        "y_label"
      ],
      "execution_count": null,
      "outputs": [
        {
          "output_type": "execute_result",
          "data": {
            "text/plain": [
              "[[3, -1],\n",
              " [6, -4],\n",
              " [4, 0],\n",
              " [11, -7],\n",
              " [4, 2],\n",
              " [10, -4],\n",
              " [7, 1],\n",
              " [12, -4],\n",
              " [13, -3],\n",
              " [8, 2],\n",
              " [11, 1],\n",
              " [15, -3],\n",
              " [10, 4],\n",
              " [8, 6],\n",
              " [13, 3],\n",
              " [16, 0],\n",
              " [13, 5],\n",
              " [12, 6]]"
            ]
          },
          "metadata": {},
          "execution_count": 14
        }
      ]
    },
    {
      "cell_type": "code",
      "metadata": {
        "id": "i6gbhoYEqEPO"
      },
      "source": [
        "import tensorflow as tf\n",
        "\n",
        "# 모델을 준비하기\n",
        "\n",
        "X = tf.keras.layers.Input(shape=[2])\n",
        "H = tf.keras.layers.Dense(8, activation='swish')(X)\n",
        "H = tf.keras.layers.Dense(8, activation='swish')(H)\n",
        "H = tf.keras.layers.Dense(8, activation='swish')(H)\n",
        "H = tf.keras.layers.Dense(8, activation='swish')(H)\n",
        "H = tf.keras.layers.Dense(8, activation='swish')(H)\n",
        "Y = tf.keras.layers.Dense(2)(H)\n",
        "\n",
        "model = tf.keras.models.Model(X, Y)\n",
        "model.compile(loss='mse', optimizer='adam')"
      ],
      "execution_count": null,
      "outputs": []
    },
    {
      "cell_type": "code",
      "metadata": {
        "id": "PDQ6QO6IsI7M"
      },
      "source": [
        "model.fit(x_input, y_label, epochs=1000, verbose=0)\n",
        "model.fit(x_input, y_label, epochs=10)"
      ],
      "execution_count": null,
      "outputs": []
    },
    {
      "cell_type": "code",
      "metadata": {
        "id": "V7sOApvtsz_U"
      },
      "source": [
        "print(y_label)\n",
        "model.predict(x_input)"
      ],
      "execution_count": null,
      "outputs": []
    },
    {
      "cell_type": "code",
      "metadata": {
        "colab": {
          "base_uri": "https://localhost:8080/"
        },
        "id": "Jbp976wJt-NO",
        "outputId": "a14cdf74-b04b-41fc-be55-6c34ab98cdd8"
      },
      "source": [
        "model.predict([[6, 2]])"
      ],
      "execution_count": null,
      "outputs": [
        {
          "output_type": "execute_result",
          "data": {
            "text/plain": [
              "array([[8.048775 , 4.2235975]], dtype=float32)"
            ]
          },
          "metadata": {},
          "execution_count": 21
        }
      ]
    },
    {
      "cell_type": "code",
      "metadata": {
        "id": "i0EjCmv5uSKW"
      },
      "source": [
        "import pandas as pd \n",
        "import numpy as np\n",
        "import tensorflow as tf\n",
        "\n",
        "dataset = pd.read_csv(\"https://raw.githubusercontent.com/blackdew/DeepLearningZeroToAll/master/data-02-stock_daily.csv\", skiprows=1)\n",
        "print(dataset.shape)\n",
        "dataset.head()"
      ],
      "execution_count": null,
      "outputs": []
    },
    {
      "cell_type": "code",
      "metadata": {
        "id": "u5GsOR11ziTH"
      },
      "source": [
        "dataset = dataset.values[::-1]\n",
        "data_norm = (dataset - dataset.min(axis=0)) / (dataset.max(axis=0) - dataset.min(axis=0))\n",
        "print(data_norm.shape)\n",
        "\n",
        "x_data = np.array([data_norm[i : i + 7, :] for i in range(len(data_norm) - 7)])\n",
        "y_data = np.array([data_norm[i + 7, [-1]] for i in range(len(data_norm) - 7)])\n",
        "\n",
        "print(x_data.shape, y_data.shape)\n",
        "\n",
        "x_test, x_train = x_data[505:], x_data[:505]\n",
        "y_test, y_train = y_data[505:], y_data[:505]\n",
        "\n",
        "print(x_train.shape, y_train.shape)\n",
        "print(x_test.shape, y_test.shape)"
      ],
      "execution_count": null,
      "outputs": []
    },
    {
      "cell_type": "code",
      "metadata": {
        "id": "lFEIgJ8n0HyY"
      },
      "source": [
        "X = tf.keras.layers.Input(shape=[7, 5])\n",
        "H = tf.keras.layers.LSTM(32)(X)\n",
        "Y = tf.keras.layers.Dense(1)(H)\n",
        "\n",
        "model = tf.keras.models.Model(X, Y)\n",
        "model.compile(optimizer='adam', loss='mse')\n",
        "model.summary()"
      ],
      "execution_count": null,
      "outputs": []
    },
    {
      "cell_type": "code",
      "metadata": {
        "colab": {
          "base_uri": "https://localhost:8080/"
        },
        "id": "NLrmzP7Z1rLo",
        "outputId": "d79e7133-13b2-4f38-8a8e-12a6ba9c0083"
      },
      "source": [
        "model.fit(x_train, y_train, epochs=500, verbose=0)\n",
        "model.fit(x_train, y_train, epochs=10)"
      ],
      "execution_count": null,
      "outputs": [
        {
          "output_type": "stream",
          "text": [
            "Epoch 1/10\n",
            "16/16 [==============================] - 0s 6ms/step - loss: 5.6124e-04\n",
            "Epoch 2/10\n",
            "16/16 [==============================] - 0s 5ms/step - loss: 5.5281e-04\n",
            "Epoch 3/10\n",
            "16/16 [==============================] - 0s 6ms/step - loss: 5.5766e-04\n",
            "Epoch 4/10\n",
            "16/16 [==============================] - 0s 5ms/step - loss: 5.8137e-04\n",
            "Epoch 5/10\n",
            "16/16 [==============================] - 0s 5ms/step - loss: 5.5794e-04\n",
            "Epoch 6/10\n",
            "16/16 [==============================] - 0s 5ms/step - loss: 5.5983e-04\n",
            "Epoch 7/10\n",
            "16/16 [==============================] - 0s 5ms/step - loss: 5.4396e-04\n",
            "Epoch 8/10\n",
            "16/16 [==============================] - 0s 5ms/step - loss: 5.4730e-04\n",
            "Epoch 9/10\n",
            "16/16 [==============================] - 0s 6ms/step - loss: 5.6769e-04\n",
            "Epoch 10/10\n",
            "16/16 [==============================] - 0s 5ms/step - loss: 5.4930e-04\n"
          ],
          "name": "stdout"
        },
        {
          "output_type": "execute_result",
          "data": {
            "text/plain": [
              "<keras.callbacks.History at 0x7fc4cb1bb290>"
            ]
          },
          "metadata": {},
          "execution_count": 28
        }
      ]
    },
    {
      "cell_type": "code",
      "metadata": {
        "colab": {
          "base_uri": "https://localhost:8080/",
          "height": 265
        },
        "id": "nlnspKjj1wZN",
        "outputId": "ca48c494-f5e4-43fa-fdb0-bfaf3882a472"
      },
      "source": [
        "pred = model.predict(x_test)\n",
        "\n",
        "import matplotlib.pyplot as plt\n",
        "plt.plot(pred)\n",
        "plt.plot(y_test)\n",
        "plt.legend(['pred', 'real'])\n",
        "plt.show()\n"
      ],
      "execution_count": null,
      "outputs": [
        {
          "output_type": "display_data",
          "data": {
            "image/png": "[encoded data removed]",
            "text/plain": [
              "<Figure size 432x288 with 1 Axes>"
            ]
          },
          "metadata": {
            "needs_background": "light"
          }
        }
      ]
    },
    {
      "cell_type": "code",
      "metadata": {
        "id": "QHBPBniF2Cyx"
      },
      "source": [
        ""
      ],
      "execution_count": null,
      "outputs": []
    }
  ]
}